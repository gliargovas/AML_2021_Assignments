{
 "cells": [
  {
   "cell_type": "markdown",
   "metadata": {},
   "source": [
    "TODO ADD INTRO"
   ]
  },
  {
   "cell_type": "markdown",
   "metadata": {},
   "source": [
    "We first import the necessary libraries."
   ]
  },
  {
   "cell_type": "code",
   "execution_count": 842,
   "metadata": {},
   "outputs": [],
   "source": [
    "import numpy as np\n",
    "\n",
    "import pandas as pd\n",
    "import matplotlib.pyplot as plt\n",
    "import seaborn as sns\n",
    "import matplotlib.dates as mdates\n",
    "import matplotlib.ticker as tk\n",
    "\n",
    "%matplotlib inline"
   ]
  },
  {
   "cell_type": "markdown",
   "metadata": {},
   "source": [
    "\n",
    "\n",
    "\n",
    "\n",
    "We will first begin by optaining the required data of the analysis. \n",
    "\n",
    "By visiting the National Oceanic and Atmospheric Administration's National Centers for Environmental Information website, we specify the date range of the dataset **(1955-01-01 to 2021-10-20)**. We also need to provide the type of data we require, which in our case is **Daily Summaries**. Finally, we need to specify our search terms. In our case we will measure the Daily Summaries of Hellinikon weather station, so this is our search term.\n",
    "\n",
    "The search tool returns us the data from the Hellinikon weather station. The tool also prompts us to specify various other preferences:\n",
    "\n",
    "* The format of the data: in our case .csv format is selected\n",
    "* Additional data to include: by reading the assignment description and the documentation, it is noticed that the Average Temperature (TAVG) and Precipitation (PRCP) are required for the analysis and are therefore selected.\n",
    "* We also selected the option to include data headers in order to facilitate the organization of the data.\n",
    "* Finally, the metric system is selected as the dataset unit of measurement.\n",
    "\n",
    "After specifying the above, we download the required dataset. For portability reasons, the data are accessed from a personal access folder.\n",
    "\n",
    "We also need to download the alternative Athens weather dataset from the Hellenic Data Service, again available in .csv format. \n"
   ]
  },
  {
   "cell_type": "markdown",
   "metadata": {},
   "source": [
    "We then proceed to read the two csv files and create two DataFrames.\n",
    "\n",
    "By reading the dataset's documentation, we can resolve the contents of each column:\n",
    "\n",
    "* **DATE** represents the date of the measurement. - (YYYY-MM-DD)\n",
    "* **STATION** represents the station code, that in out case is the code of the Helinikon weather station.\n",
    "* **PRCP** represents the precipitation, or the total daily rainfall. - (mm)\n",
    "* **PRCP_ATTRIBUTES** contain a list of different attributes of the percipitation measurement.\n",
    "* **TAVG** represents the average daily temperature. - (Degrees Celsius)\n",
    "\n"
   ]
  },
  {
   "cell_type": "code",
   "execution_count": 843,
   "metadata": {},
   "outputs": [],
   "source": [
    "noaa_filename = \"data/NOAA.csv\"\n",
    "data = pd.read_csv(noaa_filename, \n",
    "                   parse_dates=['DATE']) "
   ]
  },
  {
   "cell_type": "markdown",
   "metadata": {},
   "source": [
    "We notice that the secondary data file does not contain any headers. Fortunately, with some searching in the dataset's description (although not well documented), it is specified that the dataset columns describe the following:\n",
    "\n",
    "* col.  1 represents the date of the measurement. - (YYYY-MM-DD)\n",
    "* cols. 2 - 4 represent the average, maximum and minimum daily temperature (in that order). - (Degrees Celsius)\n",
    "* cols. 5 - 7 represent the average, maximum and minimum relative humidity. - (%)\n",
    "* cols. 8 - 10 represent the average, maximum and minimum atmospheric pressure. - (hPa)\n",
    "* col. 11 represents the total daily rainfall. - (mm) \n",
    "* col. 12 represents the average wind speed. - (km/h)\n",
    "* col. 12 represents the wind direction.\n",
    "* col. 12 represents the maximum gust of wind speed. - (km/h)\n",
    "\n",
    "We are careful to name the columns that describe the same measurements with the same name, in order to facilitate further processing. Even though the measurements are from different weather stations of Athens (the secondary data come from a station close to the centre of Athens, whereas the Hellinicon weather station is located in the southern part of Athens), for the purposes of the assignment, we take for granted that this does not affect the results.\n",
    "\n",
    "We therefore create the headers and assign them manually. The names of the other columns are related to their contents, but we will not further explan their names as they will not be used in the analysis."
   ]
  },
  {
   "cell_type": "code",
   "execution_count": 844,
   "metadata": {},
   "outputs": [],
   "source": [
    "hds_filename = \"data/HDS.csv\"\n",
    "\n",
    "secondary_data_headers = [\"DATE\", \"TAVG\", \"TMAX\", \"TMIN\", \"HAVG\", \"HMAX\", \"HMIN\", \n",
    "                          \"PAVG\", \"PMAX\", \"PMIN\", \"PRCP\", \"WSPD\", \"WDIR\", \"GSPD\"]\n",
    "\n",
    "secondary_data = pd.read_csv(hds_filename,\n",
    "                             names=secondary_data_headers,\n",
    "                             na_values=\"---\",\n",
    "                   parse_dates=['DATE'])\n",
    "\n"
   ]
  },
  {
   "cell_type": "markdown",
   "metadata": {},
   "source": [
    "* After a careful examination of the csv file, it was also noticed that the missing values of the dataset were marked with **\"---\"**, which is also specified above."
   ]
  },
  {
   "cell_type": "markdown",
   "metadata": {},
   "source": [
    "* It was noticed that the missing value of the dataset was the characters \"---\"After reading the files we are left with the following DataFrames:"
   ]
  },
  {
   "cell_type": "code",
   "execution_count": 845,
   "metadata": {},
   "outputs": [
    {
     "data": {
      "text/html": [
       "<div>\n",
       "<style scoped>\n",
       "    .dataframe tbody tr th:only-of-type {\n",
       "        vertical-align: middle;\n",
       "    }\n",
       "\n",
       "    .dataframe tbody tr th {\n",
       "        vertical-align: top;\n",
       "    }\n",
       "\n",
       "    .dataframe thead th {\n",
       "        text-align: right;\n",
       "    }\n",
       "</style>\n",
       "<table border=\"1\" class=\"dataframe\">\n",
       "  <thead>\n",
       "    <tr style=\"text-align: right;\">\n",
       "      <th></th>\n",
       "      <th>STATION</th>\n",
       "      <th>DATE</th>\n",
       "      <th>PRCP</th>\n",
       "      <th>PRCP_ATTRIBUTES</th>\n",
       "      <th>TAVG</th>\n",
       "      <th>TAVG_ATTRIBUTES</th>\n",
       "    </tr>\n",
       "  </thead>\n",
       "  <tbody>\n",
       "    <tr>\n",
       "      <th>0</th>\n",
       "      <td>GR000016716</td>\n",
       "      <td>1955-01-01</td>\n",
       "      <td>0.0</td>\n",
       "      <td>,,E</td>\n",
       "      <td>NaN</td>\n",
       "      <td>NaN</td>\n",
       "    </tr>\n",
       "    <tr>\n",
       "      <th>1</th>\n",
       "      <td>GR000016716</td>\n",
       "      <td>1955-01-02</td>\n",
       "      <td>2.0</td>\n",
       "      <td>,,E</td>\n",
       "      <td>NaN</td>\n",
       "      <td>NaN</td>\n",
       "    </tr>\n",
       "    <tr>\n",
       "      <th>2</th>\n",
       "      <td>GR000016716</td>\n",
       "      <td>1955-01-03</td>\n",
       "      <td>0.0</td>\n",
       "      <td>,,E</td>\n",
       "      <td>NaN</td>\n",
       "      <td>NaN</td>\n",
       "    </tr>\n",
       "    <tr>\n",
       "      <th>3</th>\n",
       "      <td>GR000016716</td>\n",
       "      <td>1955-01-04</td>\n",
       "      <td>0.0</td>\n",
       "      <td>,,E</td>\n",
       "      <td>NaN</td>\n",
       "      <td>NaN</td>\n",
       "    </tr>\n",
       "    <tr>\n",
       "      <th>4</th>\n",
       "      <td>GR000016716</td>\n",
       "      <td>1955-01-05</td>\n",
       "      <td>0.0</td>\n",
       "      <td>,,E</td>\n",
       "      <td>NaN</td>\n",
       "      <td>NaN</td>\n",
       "    </tr>\n",
       "    <tr>\n",
       "      <th>...</th>\n",
       "      <td>...</td>\n",
       "      <td>...</td>\n",
       "      <td>...</td>\n",
       "      <td>...</td>\n",
       "      <td>...</td>\n",
       "      <td>...</td>\n",
       "    </tr>\n",
       "    <tr>\n",
       "      <th>23532</th>\n",
       "      <td>GR000016716</td>\n",
       "      <td>2021-10-13</td>\n",
       "      <td>0.0</td>\n",
       "      <td>,,S</td>\n",
       "      <td>19.8</td>\n",
       "      <td>H,,S</td>\n",
       "    </tr>\n",
       "    <tr>\n",
       "      <th>23533</th>\n",
       "      <td>GR000016716</td>\n",
       "      <td>2021-10-14</td>\n",
       "      <td>5.6</td>\n",
       "      <td>,,S</td>\n",
       "      <td>17.5</td>\n",
       "      <td>H,,S</td>\n",
       "    </tr>\n",
       "    <tr>\n",
       "      <th>23534</th>\n",
       "      <td>GR000016716</td>\n",
       "      <td>2021-10-15</td>\n",
       "      <td>79.2</td>\n",
       "      <td>,,S</td>\n",
       "      <td>19.7</td>\n",
       "      <td>H,,S</td>\n",
       "    </tr>\n",
       "    <tr>\n",
       "      <th>23535</th>\n",
       "      <td>GR000016716</td>\n",
       "      <td>2021-10-16</td>\n",
       "      <td>2.5</td>\n",
       "      <td>,,S</td>\n",
       "      <td>19.9</td>\n",
       "      <td>H,,S</td>\n",
       "    </tr>\n",
       "    <tr>\n",
       "      <th>23536</th>\n",
       "      <td>GR000016716</td>\n",
       "      <td>2021-10-17</td>\n",
       "      <td>0.0</td>\n",
       "      <td>,,S</td>\n",
       "      <td>19.0</td>\n",
       "      <td>H,,S</td>\n",
       "    </tr>\n",
       "  </tbody>\n",
       "</table>\n",
       "<p>23537 rows × 6 columns</p>\n",
       "</div>"
      ],
      "text/plain": [
       "           STATION       DATE  PRCP PRCP_ATTRIBUTES  TAVG TAVG_ATTRIBUTES\n",
       "0      GR000016716 1955-01-01   0.0             ,,E   NaN             NaN\n",
       "1      GR000016716 1955-01-02   2.0             ,,E   NaN             NaN\n",
       "2      GR000016716 1955-01-03   0.0             ,,E   NaN             NaN\n",
       "3      GR000016716 1955-01-04   0.0             ,,E   NaN             NaN\n",
       "4      GR000016716 1955-01-05   0.0             ,,E   NaN             NaN\n",
       "...            ...        ...   ...             ...   ...             ...\n",
       "23532  GR000016716 2021-10-13   0.0             ,,S  19.8            H,,S\n",
       "23533  GR000016716 2021-10-14   5.6             ,,S  17.5            H,,S\n",
       "23534  GR000016716 2021-10-15  79.2             ,,S  19.7            H,,S\n",
       "23535  GR000016716 2021-10-16   2.5             ,,S  19.9            H,,S\n",
       "23536  GR000016716 2021-10-17   0.0             ,,S  19.0            H,,S\n",
       "\n",
       "[23537 rows x 6 columns]"
      ]
     },
     "execution_count": 845,
     "metadata": {},
     "output_type": "execute_result"
    }
   ],
   "source": [
    "data"
   ]
  },
  {
   "cell_type": "code",
   "execution_count": 846,
   "metadata": {},
   "outputs": [
    {
     "data": {
      "text/html": [
       "<div>\n",
       "<style scoped>\n",
       "    .dataframe tbody tr th:only-of-type {\n",
       "        vertical-align: middle;\n",
       "    }\n",
       "\n",
       "    .dataframe tbody tr th {\n",
       "        vertical-align: top;\n",
       "    }\n",
       "\n",
       "    .dataframe thead th {\n",
       "        text-align: right;\n",
       "    }\n",
       "</style>\n",
       "<table border=\"1\" class=\"dataframe\">\n",
       "  <thead>\n",
       "    <tr style=\"text-align: right;\">\n",
       "      <th></th>\n",
       "      <th>DATE</th>\n",
       "      <th>TAVG</th>\n",
       "      <th>TMAX</th>\n",
       "      <th>TMIN</th>\n",
       "      <th>HAVG</th>\n",
       "      <th>HMAX</th>\n",
       "      <th>HMIN</th>\n",
       "      <th>PAVG</th>\n",
       "      <th>PMAX</th>\n",
       "      <th>PMIN</th>\n",
       "      <th>PRCP</th>\n",
       "      <th>WSPD</th>\n",
       "      <th>WDIR</th>\n",
       "      <th>GSPD</th>\n",
       "    </tr>\n",
       "  </thead>\n",
       "  <tbody>\n",
       "    <tr>\n",
       "      <th>0</th>\n",
       "      <td>2010-01-01</td>\n",
       "      <td>17.9</td>\n",
       "      <td>18.1</td>\n",
       "      <td>17.8</td>\n",
       "      <td>61.4</td>\n",
       "      <td>91</td>\n",
       "      <td>33</td>\n",
       "      <td>1003.6</td>\n",
       "      <td>1006.3</td>\n",
       "      <td>1002.0</td>\n",
       "      <td>0.2</td>\n",
       "      <td>4.0</td>\n",
       "      <td>WSW</td>\n",
       "      <td>12.7</td>\n",
       "    </tr>\n",
       "    <tr>\n",
       "      <th>1</th>\n",
       "      <td>2010-01-02</td>\n",
       "      <td>15.6</td>\n",
       "      <td>15.7</td>\n",
       "      <td>15.5</td>\n",
       "      <td>57.4</td>\n",
       "      <td>70</td>\n",
       "      <td>45</td>\n",
       "      <td>1005.2</td>\n",
       "      <td>1008.7</td>\n",
       "      <td>1001.5</td>\n",
       "      <td>0.0</td>\n",
       "      <td>6.8</td>\n",
       "      <td>WSW</td>\n",
       "      <td>20.7</td>\n",
       "    </tr>\n",
       "    <tr>\n",
       "      <th>2</th>\n",
       "      <td>2010-01-03</td>\n",
       "      <td>13.5</td>\n",
       "      <td>13.6</td>\n",
       "      <td>13.4</td>\n",
       "      <td>56.0</td>\n",
       "      <td>76</td>\n",
       "      <td>39</td>\n",
       "      <td>1011.7</td>\n",
       "      <td>1016.7</td>\n",
       "      <td>1008.6</td>\n",
       "      <td>0.0</td>\n",
       "      <td>5.0</td>\n",
       "      <td>WSW</td>\n",
       "      <td>15.4</td>\n",
       "    </tr>\n",
       "    <tr>\n",
       "      <th>3</th>\n",
       "      <td>2010-01-04</td>\n",
       "      <td>9.5</td>\n",
       "      <td>9.6</td>\n",
       "      <td>9.5</td>\n",
       "      <td>50.7</td>\n",
       "      <td>60</td>\n",
       "      <td>38</td>\n",
       "      <td>1021.3</td>\n",
       "      <td>1023.1</td>\n",
       "      <td>1016.8</td>\n",
       "      <td>0.0</td>\n",
       "      <td>4.3</td>\n",
       "      <td>NNE</td>\n",
       "      <td>11.0</td>\n",
       "    </tr>\n",
       "    <tr>\n",
       "      <th>4</th>\n",
       "      <td>2010-01-05</td>\n",
       "      <td>13.4</td>\n",
       "      <td>13.5</td>\n",
       "      <td>13.4</td>\n",
       "      <td>70.5</td>\n",
       "      <td>82</td>\n",
       "      <td>54</td>\n",
       "      <td>1018.7</td>\n",
       "      <td>1022.1</td>\n",
       "      <td>1015.5</td>\n",
       "      <td>0.0</td>\n",
       "      <td>7.9</td>\n",
       "      <td>S</td>\n",
       "      <td>19.8</td>\n",
       "    </tr>\n",
       "    <tr>\n",
       "      <th>...</th>\n",
       "      <td>...</td>\n",
       "      <td>...</td>\n",
       "      <td>...</td>\n",
       "      <td>...</td>\n",
       "      <td>...</td>\n",
       "      <td>...</td>\n",
       "      <td>...</td>\n",
       "      <td>...</td>\n",
       "      <td>...</td>\n",
       "      <td>...</td>\n",
       "      <td>...</td>\n",
       "      <td>...</td>\n",
       "      <td>...</td>\n",
       "      <td>...</td>\n",
       "    </tr>\n",
       "    <tr>\n",
       "      <th>3647</th>\n",
       "      <td>2019-12-27</td>\n",
       "      <td>10.1</td>\n",
       "      <td>10.2</td>\n",
       "      <td>10.0</td>\n",
       "      <td>60.3</td>\n",
       "      <td>79</td>\n",
       "      <td>44</td>\n",
       "      <td>1018.4</td>\n",
       "      <td>1019.9</td>\n",
       "      <td>1016.8</td>\n",
       "      <td>0.0</td>\n",
       "      <td>2.9</td>\n",
       "      <td>NE</td>\n",
       "      <td>8.0</td>\n",
       "    </tr>\n",
       "    <tr>\n",
       "      <th>3648</th>\n",
       "      <td>2019-12-28</td>\n",
       "      <td>8.3</td>\n",
       "      <td>8.4</td>\n",
       "      <td>8.2</td>\n",
       "      <td>60.9</td>\n",
       "      <td>82</td>\n",
       "      <td>46</td>\n",
       "      <td>1016.0</td>\n",
       "      <td>1017.2</td>\n",
       "      <td>1014.2</td>\n",
       "      <td>7.2</td>\n",
       "      <td>4.3</td>\n",
       "      <td>NE</td>\n",
       "      <td>12.8</td>\n",
       "    </tr>\n",
       "    <tr>\n",
       "      <th>3649</th>\n",
       "      <td>2019-12-29</td>\n",
       "      <td>6.4</td>\n",
       "      <td>6.5</td>\n",
       "      <td>6.4</td>\n",
       "      <td>73.4</td>\n",
       "      <td>82</td>\n",
       "      <td>66</td>\n",
       "      <td>1017.6</td>\n",
       "      <td>1018.9</td>\n",
       "      <td>1016.5</td>\n",
       "      <td>3.4</td>\n",
       "      <td>10.6</td>\n",
       "      <td>NNE</td>\n",
       "      <td>24.5</td>\n",
       "    </tr>\n",
       "    <tr>\n",
       "      <th>3650</th>\n",
       "      <td>2019-12-30</td>\n",
       "      <td>4.0</td>\n",
       "      <td>4.0</td>\n",
       "      <td>3.9</td>\n",
       "      <td>83.9</td>\n",
       "      <td>90</td>\n",
       "      <td>65</td>\n",
       "      <td>1020.0</td>\n",
       "      <td>1024.2</td>\n",
       "      <td>1016.6</td>\n",
       "      <td>12.4</td>\n",
       "      <td>5.1</td>\n",
       "      <td>NE</td>\n",
       "      <td>15.0</td>\n",
       "    </tr>\n",
       "    <tr>\n",
       "      <th>3651</th>\n",
       "      <td>2019-12-31</td>\n",
       "      <td>6.4</td>\n",
       "      <td>6.5</td>\n",
       "      <td>6.3</td>\n",
       "      <td>72.3</td>\n",
       "      <td>86</td>\n",
       "      <td>58</td>\n",
       "      <td>1025.4</td>\n",
       "      <td>1026.7</td>\n",
       "      <td>1023.9</td>\n",
       "      <td>0.0</td>\n",
       "      <td>2.7</td>\n",
       "      <td>W</td>\n",
       "      <td>9.4</td>\n",
       "    </tr>\n",
       "  </tbody>\n",
       "</table>\n",
       "<p>3652 rows × 14 columns</p>\n",
       "</div>"
      ],
      "text/plain": [
       "           DATE  TAVG  TMAX  TMIN  HAVG  HMAX  HMIN    PAVG    PMAX    PMIN  \\\n",
       "0    2010-01-01  17.9  18.1  17.8  61.4    91    33  1003.6  1006.3  1002.0   \n",
       "1    2010-01-02  15.6  15.7  15.5  57.4    70    45  1005.2  1008.7  1001.5   \n",
       "2    2010-01-03  13.5  13.6  13.4  56.0    76    39  1011.7  1016.7  1008.6   \n",
       "3    2010-01-04   9.5   9.6   9.5  50.7    60    38  1021.3  1023.1  1016.8   \n",
       "4    2010-01-05  13.4  13.5  13.4  70.5    82    54  1018.7  1022.1  1015.5   \n",
       "...         ...   ...   ...   ...   ...   ...   ...     ...     ...     ...   \n",
       "3647 2019-12-27  10.1  10.2  10.0  60.3    79    44  1018.4  1019.9  1016.8   \n",
       "3648 2019-12-28   8.3   8.4   8.2  60.9    82    46  1016.0  1017.2  1014.2   \n",
       "3649 2019-12-29   6.4   6.5   6.4  73.4    82    66  1017.6  1018.9  1016.5   \n",
       "3650 2019-12-30   4.0   4.0   3.9  83.9    90    65  1020.0  1024.2  1016.6   \n",
       "3651 2019-12-31   6.4   6.5   6.3  72.3    86    58  1025.4  1026.7  1023.9   \n",
       "\n",
       "      PRCP  WSPD WDIR  GSPD  \n",
       "0      0.2   4.0  WSW  12.7  \n",
       "1      0.0   6.8  WSW  20.7  \n",
       "2      0.0   5.0  WSW  15.4  \n",
       "3      0.0   4.3  NNE  11.0  \n",
       "4      0.0   7.9    S  19.8  \n",
       "...    ...   ...  ...   ...  \n",
       "3647   0.0   2.9   NE   8.0  \n",
       "3648   7.2   4.3   NE  12.8  \n",
       "3649   3.4  10.6  NNE  24.5  \n",
       "3650  12.4   5.1   NE  15.0  \n",
       "3651   0.0   2.7    W   9.4  \n",
       "\n",
       "[3652 rows x 14 columns]"
      ]
     },
     "execution_count": 846,
     "metadata": {},
     "output_type": "execute_result"
    }
   ],
   "source": [
    "secondary_data"
   ]
  },
  {
   "cell_type": "markdown",
   "metadata": {},
   "source": [
    "We will now explore the primary dataset."
   ]
  },
  {
   "cell_type": "code",
   "execution_count": 847,
   "metadata": {},
   "outputs": [
    {
     "data": {
      "text/html": [
       "<div>\n",
       "<style scoped>\n",
       "    .dataframe tbody tr th:only-of-type {\n",
       "        vertical-align: middle;\n",
       "    }\n",
       "\n",
       "    .dataframe tbody tr th {\n",
       "        vertical-align: top;\n",
       "    }\n",
       "\n",
       "    .dataframe thead th {\n",
       "        text-align: right;\n",
       "    }\n",
       "</style>\n",
       "<table border=\"1\" class=\"dataframe\">\n",
       "  <thead>\n",
       "    <tr style=\"text-align: right;\">\n",
       "      <th></th>\n",
       "      <th>PRCP</th>\n",
       "      <th>TAVG</th>\n",
       "    </tr>\n",
       "  </thead>\n",
       "  <tbody>\n",
       "    <tr>\n",
       "      <th>count</th>\n",
       "      <td>23024.000000</td>\n",
       "      <td>21226.000000</td>\n",
       "    </tr>\n",
       "    <tr>\n",
       "      <th>mean</th>\n",
       "      <td>1.007284</td>\n",
       "      <td>18.306492</td>\n",
       "    </tr>\n",
       "    <tr>\n",
       "      <th>std</th>\n",
       "      <td>4.640332</td>\n",
       "      <td>6.937514</td>\n",
       "    </tr>\n",
       "    <tr>\n",
       "      <th>min</th>\n",
       "      <td>0.000000</td>\n",
       "      <td>-2.000000</td>\n",
       "    </tr>\n",
       "    <tr>\n",
       "      <th>25%</th>\n",
       "      <td>0.000000</td>\n",
       "      <td>12.800000</td>\n",
       "    </tr>\n",
       "    <tr>\n",
       "      <th>50%</th>\n",
       "      <td>0.000000</td>\n",
       "      <td>17.800000</td>\n",
       "    </tr>\n",
       "    <tr>\n",
       "      <th>75%</th>\n",
       "      <td>0.000000</td>\n",
       "      <td>24.300000</td>\n",
       "    </tr>\n",
       "    <tr>\n",
       "      <th>max</th>\n",
       "      <td>142.000000</td>\n",
       "      <td>34.800000</td>\n",
       "    </tr>\n",
       "  </tbody>\n",
       "</table>\n",
       "</div>"
      ],
      "text/plain": [
       "               PRCP          TAVG\n",
       "count  23024.000000  21226.000000\n",
       "mean       1.007284     18.306492\n",
       "std        4.640332      6.937514\n",
       "min        0.000000     -2.000000\n",
       "25%        0.000000     12.800000\n",
       "50%        0.000000     17.800000\n",
       "75%        0.000000     24.300000\n",
       "max      142.000000     34.800000"
      ]
     },
     "execution_count": 847,
     "metadata": {},
     "output_type": "execute_result"
    }
   ],
   "source": [
    "data.describe()"
   ]
  },
  {
   "cell_type": "code",
   "execution_count": 848,
   "metadata": {},
   "outputs": [
    {
     "data": {
      "text/plain": [
       "13.9    145\n",
       "13.1    145\n",
       "14.2    144\n",
       "13.3    142\n",
       "14.9    142\n",
       "       ... \n",
       "0.4       1\n",
       "33.9      1\n",
       "2.7       1\n",
       "1.4       1\n",
       "1.0       1\n",
       "Name: TAVG, Length: 348, dtype: int64"
      ]
     },
     "execution_count": 848,
     "metadata": {},
     "output_type": "execute_result"
    }
   ],
   "source": [
    "data.TAVG.value_counts()"
   ]
  },
  {
   "cell_type": "code",
   "execution_count": 849,
   "metadata": {},
   "outputs": [
    {
     "data": {
      "text/plain": [
       "0.0     19138\n",
       "0.3       227\n",
       "0.1       226\n",
       "0.2       215\n",
       "0.5       168\n",
       "        ...  \n",
       "20.9        1\n",
       "25.5        1\n",
       "42.2        1\n",
       "34.0        1\n",
       "26.8        1\n",
       "Name: PRCP, Length: 371, dtype: int64"
      ]
     },
     "execution_count": 849,
     "metadata": {},
     "output_type": "execute_result"
    }
   ],
   "source": [
    "data.PRCP.value_counts()"
   ]
  },
  {
   "cell_type": "markdown",
   "metadata": {},
   "source": [
    "* At a first glance we see that no extreme values do exist.\n",
    "* It is also worth mentioning that it rained less than 25% of the days, which makes sense in a country such as Greece."
   ]
  },
  {
   "cell_type": "markdown",
   "metadata": {},
   "source": [
    "Now let's explore the any existence of missing values. We only care about the absence of TAVG and PRCP values as these are the columns that we are interested in. Therefore, we first need to have an overview of any absent temperature or percipitation data."
   ]
  },
  {
   "cell_type": "code",
   "execution_count": 850,
   "metadata": {},
   "outputs": [
    {
     "data": {
      "text/html": [
       "<div>\n",
       "<style scoped>\n",
       "    .dataframe tbody tr th:only-of-type {\n",
       "        vertical-align: middle;\n",
       "    }\n",
       "\n",
       "    .dataframe tbody tr th {\n",
       "        vertical-align: top;\n",
       "    }\n",
       "\n",
       "    .dataframe thead th {\n",
       "        text-align: right;\n",
       "    }\n",
       "</style>\n",
       "<table border=\"1\" class=\"dataframe\">\n",
       "  <thead>\n",
       "    <tr style=\"text-align: right;\">\n",
       "      <th></th>\n",
       "      <th>STATION</th>\n",
       "      <th>DATE</th>\n",
       "      <th>PRCP</th>\n",
       "      <th>PRCP_ATTRIBUTES</th>\n",
       "      <th>TAVG</th>\n",
       "      <th>TAVG_ATTRIBUTES</th>\n",
       "    </tr>\n",
       "  </thead>\n",
       "  <tbody>\n",
       "    <tr>\n",
       "      <th>0</th>\n",
       "      <td>GR000016716</td>\n",
       "      <td>1955-01-01</td>\n",
       "      <td>0.0</td>\n",
       "      <td>,,E</td>\n",
       "      <td>NaN</td>\n",
       "      <td>NaN</td>\n",
       "    </tr>\n",
       "    <tr>\n",
       "      <th>1</th>\n",
       "      <td>GR000016716</td>\n",
       "      <td>1955-01-02</td>\n",
       "      <td>2.0</td>\n",
       "      <td>,,E</td>\n",
       "      <td>NaN</td>\n",
       "      <td>NaN</td>\n",
       "    </tr>\n",
       "    <tr>\n",
       "      <th>2</th>\n",
       "      <td>GR000016716</td>\n",
       "      <td>1955-01-03</td>\n",
       "      <td>0.0</td>\n",
       "      <td>,,E</td>\n",
       "      <td>NaN</td>\n",
       "      <td>NaN</td>\n",
       "    </tr>\n",
       "    <tr>\n",
       "      <th>3</th>\n",
       "      <td>GR000016716</td>\n",
       "      <td>1955-01-04</td>\n",
       "      <td>0.0</td>\n",
       "      <td>,,E</td>\n",
       "      <td>NaN</td>\n",
       "      <td>NaN</td>\n",
       "    </tr>\n",
       "    <tr>\n",
       "      <th>4</th>\n",
       "      <td>GR000016716</td>\n",
       "      <td>1955-01-05</td>\n",
       "      <td>0.0</td>\n",
       "      <td>,,E</td>\n",
       "      <td>NaN</td>\n",
       "      <td>NaN</td>\n",
       "    </tr>\n",
       "    <tr>\n",
       "      <th>...</th>\n",
       "      <td>...</td>\n",
       "      <td>...</td>\n",
       "      <td>...</td>\n",
       "      <td>...</td>\n",
       "      <td>...</td>\n",
       "      <td>...</td>\n",
       "    </tr>\n",
       "    <tr>\n",
       "      <th>23503</th>\n",
       "      <td>GR000016716</td>\n",
       "      <td>2021-09-14</td>\n",
       "      <td>NaN</td>\n",
       "      <td>NaN</td>\n",
       "      <td>25.8</td>\n",
       "      <td>H,,S</td>\n",
       "    </tr>\n",
       "    <tr>\n",
       "      <th>23521</th>\n",
       "      <td>GR000016716</td>\n",
       "      <td>2021-10-02</td>\n",
       "      <td>NaN</td>\n",
       "      <td>NaN</td>\n",
       "      <td>18.9</td>\n",
       "      <td>H,,S</td>\n",
       "    </tr>\n",
       "    <tr>\n",
       "      <th>23528</th>\n",
       "      <td>GR000016716</td>\n",
       "      <td>2021-10-09</td>\n",
       "      <td>NaN</td>\n",
       "      <td>NaN</td>\n",
       "      <td>20.6</td>\n",
       "      <td>H,,S</td>\n",
       "    </tr>\n",
       "    <tr>\n",
       "      <th>23530</th>\n",
       "      <td>GR000016716</td>\n",
       "      <td>2021-10-11</td>\n",
       "      <td>NaN</td>\n",
       "      <td>NaN</td>\n",
       "      <td>21.8</td>\n",
       "      <td>H,,S</td>\n",
       "    </tr>\n",
       "    <tr>\n",
       "      <th>23531</th>\n",
       "      <td>GR000016716</td>\n",
       "      <td>2021-10-12</td>\n",
       "      <td>NaN</td>\n",
       "      <td>NaN</td>\n",
       "      <td>18.9</td>\n",
       "      <td>H,,S</td>\n",
       "    </tr>\n",
       "  </tbody>\n",
       "</table>\n",
       "<p>2821 rows × 6 columns</p>\n",
       "</div>"
      ],
      "text/plain": [
       "           STATION       DATE  PRCP PRCP_ATTRIBUTES  TAVG TAVG_ATTRIBUTES\n",
       "0      GR000016716 1955-01-01   0.0             ,,E   NaN             NaN\n",
       "1      GR000016716 1955-01-02   2.0             ,,E   NaN             NaN\n",
       "2      GR000016716 1955-01-03   0.0             ,,E   NaN             NaN\n",
       "3      GR000016716 1955-01-04   0.0             ,,E   NaN             NaN\n",
       "4      GR000016716 1955-01-05   0.0             ,,E   NaN             NaN\n",
       "...            ...        ...   ...             ...   ...             ...\n",
       "23503  GR000016716 2021-09-14   NaN             NaN  25.8            H,,S\n",
       "23521  GR000016716 2021-10-02   NaN             NaN  18.9            H,,S\n",
       "23528  GR000016716 2021-10-09   NaN             NaN  20.6            H,,S\n",
       "23530  GR000016716 2021-10-11   NaN             NaN  21.8            H,,S\n",
       "23531  GR000016716 2021-10-12   NaN             NaN  18.9            H,,S\n",
       "\n",
       "[2821 rows x 6 columns]"
      ]
     },
     "execution_count": 850,
     "metadata": {},
     "output_type": "execute_result"
    }
   ],
   "source": [
    "data[data['PRCP'].isnull() | data['TAVG'].isnull()]"
   ]
  },
  {
   "cell_type": "code",
   "execution_count": 851,
   "metadata": {},
   "outputs": [
    {
     "data": {
      "text/plain": [
       "STATION            2311\n",
       "DATE               2311\n",
       "PRCP               2308\n",
       "PRCP_ATTRIBUTES    2308\n",
       "TAVG                  0\n",
       "TAVG_ATTRIBUTES       0\n",
       "dtype: int64"
      ]
     },
     "execution_count": 851,
     "metadata": {},
     "output_type": "execute_result"
    }
   ],
   "source": [
    "data[data['TAVG'].isnull()].count()"
   ]
  },
  {
   "cell_type": "code",
   "execution_count": 852,
   "metadata": {},
   "outputs": [
    {
     "data": {
      "text/plain": [
       "STATION            513\n",
       "DATE               513\n",
       "PRCP                 0\n",
       "PRCP_ATTRIBUTES      0\n",
       "TAVG               510\n",
       "TAVG_ATTRIBUTES    510\n",
       "dtype: int64"
      ]
     },
     "execution_count": 852,
     "metadata": {},
     "output_type": "execute_result"
    }
   ],
   "source": [
    "data[data['PRCP'].isnull()].count()"
   ]
  },
  {
   "cell_type": "markdown",
   "metadata": {},
   "source": [
    "We have spotted 2821 missing values. From these 2311 are about missing temperature data and 513 are about missing precipotation data."
   ]
  },
  {
   "cell_type": "markdown",
   "metadata": {},
   "source": [
    "We are now going to analyze the secondary dataset. We won't be needing all the data so we remove the unecessary ones."
   ]
  },
  {
   "cell_type": "code",
   "execution_count": 853,
   "metadata": {},
   "outputs": [],
   "source": [
    "secondary_data = secondary_data.drop([\"TMAX\", \"TMIN\", \"HAVG\", \"HMAX\", \"HMIN\", \"PAVG\", \"PMAX\", \"PMIN\", \"WSPD\", \"WDIR\", \"GSPD\"], axis=1)"
   ]
  },
  {
   "cell_type": "markdown",
   "metadata": {},
   "source": [
    "At this point, something is not quite wright. "
   ]
  },
  {
   "cell_type": "code",
   "execution_count": 854,
   "metadata": {},
   "outputs": [
    {
     "data": {
      "text/html": [
       "<div>\n",
       "<style scoped>\n",
       "    .dataframe tbody tr th:only-of-type {\n",
       "        vertical-align: middle;\n",
       "    }\n",
       "\n",
       "    .dataframe tbody tr th {\n",
       "        vertical-align: top;\n",
       "    }\n",
       "\n",
       "    .dataframe thead th {\n",
       "        text-align: right;\n",
       "    }\n",
       "</style>\n",
       "<table border=\"1\" class=\"dataframe\">\n",
       "  <thead>\n",
       "    <tr style=\"text-align: right;\">\n",
       "      <th></th>\n",
       "      <th>TAVG</th>\n",
       "      <th>PRCP</th>\n",
       "    </tr>\n",
       "  </thead>\n",
       "  <tbody>\n",
       "    <tr>\n",
       "      <th>count</th>\n",
       "      <td>3649.000000</td>\n",
       "      <td>3652.000000</td>\n",
       "    </tr>\n",
       "    <tr>\n",
       "      <th>mean</th>\n",
       "      <td>19.443245</td>\n",
       "      <td>1.255531</td>\n",
       "    </tr>\n",
       "    <tr>\n",
       "      <th>std</th>\n",
       "      <td>7.143639</td>\n",
       "      <td>4.993957</td>\n",
       "    </tr>\n",
       "    <tr>\n",
       "      <th>min</th>\n",
       "      <td>0.800000</td>\n",
       "      <td>0.000000</td>\n",
       "    </tr>\n",
       "    <tr>\n",
       "      <th>25%</th>\n",
       "      <td>13.700000</td>\n",
       "      <td>0.000000</td>\n",
       "    </tr>\n",
       "    <tr>\n",
       "      <th>50%</th>\n",
       "      <td>18.900000</td>\n",
       "      <td>0.000000</td>\n",
       "    </tr>\n",
       "    <tr>\n",
       "      <th>75%</th>\n",
       "      <td>25.800000</td>\n",
       "      <td>0.000000</td>\n",
       "    </tr>\n",
       "    <tr>\n",
       "      <th>max</th>\n",
       "      <td>35.300000</td>\n",
       "      <td>97.000000</td>\n",
       "    </tr>\n",
       "  </tbody>\n",
       "</table>\n",
       "</div>"
      ],
      "text/plain": [
       "              TAVG         PRCP\n",
       "count  3649.000000  3652.000000\n",
       "mean     19.443245     1.255531\n",
       "std       7.143639     4.993957\n",
       "min       0.800000     0.000000\n",
       "25%      13.700000     0.000000\n",
       "50%      18.900000     0.000000\n",
       "75%      25.800000     0.000000\n",
       "max      35.300000    97.000000"
      ]
     },
     "execution_count": 854,
     "metadata": {},
     "output_type": "execute_result"
    }
   ],
   "source": [
    "secondary_data.describe()"
   ]
  },
  {
   "cell_type": "code",
   "execution_count": 855,
   "metadata": {},
   "outputs": [
    {
     "data": {
      "text/plain": [
       "13.9    145\n",
       "13.1    145\n",
       "14.2    144\n",
       "13.3    142\n",
       "14.9    142\n",
       "       ... \n",
       "0.4       1\n",
       "33.9      1\n",
       "2.7       1\n",
       "1.4       1\n",
       "1.0       1\n",
       "Name: TAVG, Length: 348, dtype: int64"
      ]
     },
     "execution_count": 855,
     "metadata": {},
     "output_type": "execute_result"
    }
   ],
   "source": [
    "data.TAVG.value_counts()"
   ]
  },
  {
   "cell_type": "code",
   "execution_count": 856,
   "metadata": {},
   "outputs": [
    {
     "data": {
      "text/plain": [
       "0.0     19138\n",
       "0.3       227\n",
       "0.1       226\n",
       "0.2       215\n",
       "0.5       168\n",
       "        ...  \n",
       "20.9        1\n",
       "25.5        1\n",
       "42.2        1\n",
       "34.0        1\n",
       "26.8        1\n",
       "Name: PRCP, Length: 371, dtype: int64"
      ]
     },
     "execution_count": 856,
     "metadata": {},
     "output_type": "execute_result"
    }
   ],
   "source": [
    "data.PRCP.value_counts()"
   ]
  },
  {
   "cell_type": "markdown",
   "metadata": {},
   "source": [
    "We notice similar trends to the first dataset. There is an absence of extreme values, which means that the data are presumably valid."
   ]
  },
  {
   "cell_type": "markdown",
   "metadata": {},
   "source": [
    "We are now going to fill the missing data from the NOAA by combining the two datasets. If both measurements are present, we will be keeping the data provided in the primary dataset. "
   ]
  },
  {
   "cell_type": "code",
   "execution_count": null,
   "metadata": {},
   "outputs": [],
   "source": []
  },
  {
   "cell_type": "code",
   "execution_count": 857,
   "metadata": {},
   "outputs": [],
   "source": [
    "combined_data  = pd.merge(data[[\"DATE\", \"TAVG\", \"PRCP\"]],\n",
    "              secondary_data[[\"DATE\", \"TAVG\", \"PRCP\"]],\n",
    "              on=[\"DATE\"],\n",
    "              how=\"outer\")\n",
    "# print(combined_data[combined_data.PRCP_x.isna()])\n",
    "# print(combined_data[combined_data.PRCP_y.isna()])\n",
    "combined_data[\"PRCP\"] = np.where(combined_data.PRCP_x.notna() & combined_data.PRCP_y.notna(), (combined_data.PRCP_x + combined_data.PRCP_y) / 2, combined_data.PRCP_x)\n",
    "combined_data[\"PRCP\"] = np.where(combined_data.PRCP.isna(), combined_data.PRCP_y, combined_data.PRCP)\n",
    "# if both values exist, \n",
    "\n",
    "\n",
    "combined_data[\"TAVG\"] = np.where(combined_data.TAVG_x.notna() & combined_data.TAVG_y.notna(), (combined_data.TAVG_x + combined_data.TAVG_y) / 2, combined_data.TAVG_x)\n",
    "combined_data[\"TAVG\"] = np.where(combined_data.TAVG.isna(), combined_data.TAVG_y, combined_data.TAVG)\n",
    "\n",
    "\n",
    "combined_data = combined_data.drop(columns=[\"TAVG_x\", \"TAVG_y\", \"PRCP_x\", \"PRCP_y\", \"PRCP\"])\n"
   ]
  },
  {
   "cell_type": "markdown",
   "metadata": {},
   "source": [
    "Below, we can verify that indeed the new combined dataset contains "
   ]
  },
  {
   "cell_type": "code",
   "execution_count": 858,
   "metadata": {},
   "outputs": [],
   "source": [
    "#TODO check boundaries and na number\n",
    "\n",
    "# print(\"NOAA Data 2010 - 2019 missing temperature entries:\", combined_data[(combined_data['DATE'] > pd.to_datetime('2010-01-01')) & (combined_data['DATE'] < pd.to_datetime('2019-12-31')) & (combined_data.TAVG.isna())])\n",
    "\n",
    "\n",
    "\n",
    "\n",
    "# print(\"NOAA Data 2010 - 2019 missing precipitation entries:\", data[(data['DATE'] > pd.to_datetime('2010-01-01')) & (data['DATE'] < pd.to_datetime('2019-12-31')) & (data['PRCP'].isna())].size)\n",
    "\n",
    "# print(\"Combined Data 2010 - 2019 missing precipitation entries:\", combined_data[(combined_data['DATE'] > pd.to_datetime('2010-01-01')) & (combined_data['DATE'] < pd.to_datetime('2019-12-31')) & (combined_data['PRCP'].isna())].size)\n",
    "\n",
    "# combined_data[(combined_data['DATE'] > pd.to_datetime('2010-01-01')) & (combined_data['DATE'] < pd.to_datetime('2019-12-31')) & (combined_data['TAVG'].isna())]\n",
    "\n"
   ]
  },
  {
   "cell_type": "markdown",
   "metadata": {},
   "source": [
    "Q2"
   ]
  },
  {
   "cell_type": "markdown",
   "metadata": {},
   "source": [
    "Firstly, we need to calculate the mean summer temperature for every time period. For this reason we will create bins containing the temperatures of every summer"
   ]
  },
  {
   "cell_type": "code",
   "execution_count": 859,
   "metadata": {},
   "outputs": [
    {
     "data": {
      "text/html": [
       "<div>\n",
       "<style scoped>\n",
       "    .dataframe tbody tr th:only-of-type {\n",
       "        vertical-align: middle;\n",
       "    }\n",
       "\n",
       "    .dataframe tbody tr th {\n",
       "        vertical-align: top;\n",
       "    }\n",
       "\n",
       "    .dataframe thead th {\n",
       "        text-align: right;\n",
       "    }\n",
       "</style>\n",
       "<table border=\"1\" class=\"dataframe\">\n",
       "  <thead>\n",
       "    <tr style=\"text-align: right;\">\n",
       "      <th></th>\n",
       "      <th>TAVG</th>\n",
       "    </tr>\n",
       "    <tr>\n",
       "      <th>DATE</th>\n",
       "      <th></th>\n",
       "    </tr>\n",
       "  </thead>\n",
       "  <tbody>\n",
       "    <tr>\n",
       "      <th>1955</th>\n",
       "      <td>NaN</td>\n",
       "    </tr>\n",
       "    <tr>\n",
       "      <th>1956</th>\n",
       "      <td>NaN</td>\n",
       "    </tr>\n",
       "    <tr>\n",
       "      <th>1957</th>\n",
       "      <td>28.091935</td>\n",
       "    </tr>\n",
       "    <tr>\n",
       "      <th>1958</th>\n",
       "      <td>27.081522</td>\n",
       "    </tr>\n",
       "    <tr>\n",
       "      <th>1959</th>\n",
       "      <td>NaN</td>\n",
       "    </tr>\n",
       "    <tr>\n",
       "      <th>...</th>\n",
       "      <td>...</td>\n",
       "    </tr>\n",
       "    <tr>\n",
       "      <th>2017</th>\n",
       "      <td>28.309239</td>\n",
       "    </tr>\n",
       "    <tr>\n",
       "      <th>2018</th>\n",
       "      <td>27.678804</td>\n",
       "    </tr>\n",
       "    <tr>\n",
       "      <th>2019</th>\n",
       "      <td>28.093478</td>\n",
       "    </tr>\n",
       "    <tr>\n",
       "      <th>2020</th>\n",
       "      <td>27.380435</td>\n",
       "    </tr>\n",
       "    <tr>\n",
       "      <th>2021</th>\n",
       "      <td>28.427174</td>\n",
       "    </tr>\n",
       "  </tbody>\n",
       "</table>\n",
       "<p>67 rows × 1 columns</p>\n",
       "</div>"
      ],
      "text/plain": [
       "           TAVG\n",
       "DATE           \n",
       "1955        NaN\n",
       "1956        NaN\n",
       "1957  28.091935\n",
       "1958  27.081522\n",
       "1959        NaN\n",
       "...         ...\n",
       "2017  28.309239\n",
       "2018  27.678804\n",
       "2019  28.093478\n",
       "2020  27.380435\n",
       "2021  28.427174\n",
       "\n",
       "[67 rows x 1 columns]"
      ]
     },
     "execution_count": 859,
     "metadata": {},
     "output_type": "execute_result"
    }
   ],
   "source": [
    "summers = combined_data[combined_data.DATE.dt.month.between(6,8)]\n",
    "\n",
    "summer_means = summers.groupby(summers[\"DATE\"].dt.year).mean()\n",
    "summer_means"
   ]
  },
  {
   "cell_type": "markdown",
   "metadata": {},
   "source": [
    "Now we will calculate the average summer temperature for the time period of 1974-1999."
   ]
  },
  {
   "cell_type": "code",
   "execution_count": 860,
   "metadata": {},
   "outputs": [
    {
     "data": {
      "image/png": "[encoded data removed]",
      "text/plain": [
       "<Figure size 1080x504 with 1 Axes>"
      ]
     },
     "metadata": {
      "needs_background": "light"
     },
     "output_type": "display_data"
    }
   ],
   "source": [
    "baseline_temp = summer_means.loc[1974:1999][\"TAVG\"]\n",
    "baseline_temp = baseline_temp.mean()\n",
    "baseline_temp\n",
    "\n",
    "\n",
    "summer_means[\"DEV\"] = summer_means[\"TAVG\"] - baseline_temp\n",
    "summer_means[\"ROLLING\"] = summer_means[\"DEV\"].rolling(window=10, min_periods=1).mean()\n",
    "summer_means[\"DATE\"] = pd.to_datetime(summer_means.index, format='%Y')\n",
    "summer_means[\"DATE\"] = summer_means.index\n",
    "summer_means = summer_means.drop(columns=\"TAVG\")\n",
    "summer_means\n",
    "fig, ax = plt.subplots(figsize=(15,7))\n",
    "\n",
    "summer_means.plot(x='DATE', y='DEV', ax=ax)\n",
    "\n",
    "\n",
    "summer_means.plot(kind='bar', x='DATE', y='DEV', ax=ax, color=\"r\")\n",
    "summer_means.plot(x='DATE', y='DEV', ax=ax)\n",
    "ax.xaxis.set_major_locator(tk.MultipleLocator(10))\n",
    "\n",
    "\n",
    "\n"
   ]
  },
  {
   "cell_type": "markdown",
   "metadata": {},
   "source": [
    "We will first add Month row in order to later on group our dates"
   ]
  },
  {
   "cell_type": "code",
   "execution_count": 861,
   "metadata": {},
   "outputs": [
    {
     "data": {
      "text/plain": [
       "<AxesSubplot:xlabel='MONTH', ylabel='2000'>"
      ]
     },
     "execution_count": 861,
     "metadata": {},
     "output_type": "execute_result"
    },
    {
     "data": {
      "image/png": "[encoded data removed]",
      "text/plain": [
       "<Figure size 576x396 with 1 Axes>"
      ]
     },
     "metadata": {},
     "output_type": "display_data"
    }
   ],
   "source": [
    "q3_data=combined_data\n",
    "q3_data[\"MONTH\"] = q3_data.DATE.dt.month\n",
    "q3_data[\"YEAR\"] = q3_data.DATE.dt.year\n",
    "q3_data[\"ROLLING\"] = q3_data.TAVG.rolling(window=30, min_periods=1).mean()\n",
    "q3_data\n",
    "q3_data = q3_data.pivot_table(index=\"MONTH\",columns=\"YEAR\", values=\"ROLLING\")\n",
    "q3_data.transpose()\n",
    "plt.style.use('seaborn')\n",
    "sns.lineplot(data = q3_data, palette=\"flare\", legend=None, dashes=False)\n",
    "sns.lineplot(data = q3_data[2000], color=\"b\")"
   ]
  },
  {
   "cell_type": "code",
   "execution_count": 862,
   "metadata": {},
   "outputs": [
    {
     "ename": "KeyError",
     "evalue": "'TAVG'",
     "output_type": "error",
     "traceback": [
      "\u001b[1;31m---------------------------------------------------------------------------\u001b[0m",
      "\u001b[1;31mKeyError\u001b[0m                                  Traceback (most recent call last)",
      "\u001b[1;32m~\\AppData\\Roaming\\Python\\Python39\\site-packages\\pandas\\core\\indexes\\base.py\u001b[0m in \u001b[0;36mget_loc\u001b[1;34m(self, key, method, tolerance)\u001b[0m\n\u001b[0;32m   3079\u001b[0m             \u001b[1;32mtry\u001b[0m\u001b[1;33m:\u001b[0m\u001b[1;33m\u001b[0m\u001b[1;33m\u001b[0m\u001b[0m\n\u001b[1;32m-> 3080\u001b[1;33m                 \u001b[1;32mreturn\u001b[0m \u001b[0mself\u001b[0m\u001b[1;33m.\u001b[0m\u001b[0m_engine\u001b[0m\u001b[1;33m.\u001b[0m\u001b[0mget_loc\u001b[0m\u001b[1;33m(\u001b[0m\u001b[0mcasted_key\u001b[0m\u001b[1;33m)\u001b[0m\u001b[1;33m\u001b[0m\u001b[1;33m\u001b[0m\u001b[0m\n\u001b[0m\u001b[0;32m   3081\u001b[0m             \u001b[1;32mexcept\u001b[0m \u001b[0mKeyError\u001b[0m \u001b[1;32mas\u001b[0m \u001b[0merr\u001b[0m\u001b[1;33m:\u001b[0m\u001b[1;33m\u001b[0m\u001b[1;33m\u001b[0m\u001b[0m\n",
      "\u001b[1;32mpandas\\_libs\\index.pyx\u001b[0m in \u001b[0;36mpandas._libs.index.IndexEngine.get_loc\u001b[1;34m()\u001b[0m\n",
      "\u001b[1;32mpandas\\_libs\\index.pyx\u001b[0m in \u001b[0;36mpandas._libs.index.IndexEngine.get_loc\u001b[1;34m()\u001b[0m\n",
      "\u001b[1;32mpandas\\_libs\\index_class_helper.pxi\u001b[0m in \u001b[0;36mpandas._libs.index.Int64Engine._check_type\u001b[1;34m()\u001b[0m\n",
      "\u001b[1;31mKeyError\u001b[0m: 'TAVG'",
      "\nThe above exception was the direct cause of the following exception:\n",
      "\u001b[1;31mKeyError\u001b[0m                                  Traceback (most recent call last)",
      "\u001b[1;32m~\\AppData\\Local\\Temp/ipykernel_26220/3818412352.py\u001b[0m in \u001b[0;36m<module>\u001b[1;34m\u001b[0m\n\u001b[0;32m      4\u001b[0m \u001b[0mq3_avg\u001b[0m \u001b[1;33m=\u001b[0m \u001b[0mq3_avg\u001b[0m\u001b[1;33m.\u001b[0m\u001b[0mgroupby\u001b[0m\u001b[1;33m(\u001b[0m\u001b[1;34m\"DAY\"\u001b[0m\u001b[1;33m)\u001b[0m\u001b[1;33m\u001b[0m\u001b[1;33m\u001b[0m\u001b[0m\n\u001b[0;32m      5\u001b[0m \u001b[0mq3_avg\u001b[0m \u001b[1;33m=\u001b[0m \u001b[0mq3_avg\u001b[0m\u001b[1;33m.\u001b[0m\u001b[0mTAVG\u001b[0m\u001b[1;33m.\u001b[0m\u001b[0mmean\u001b[0m\u001b[1;33m(\u001b[0m\u001b[1;33m)\u001b[0m\u001b[1;33m\u001b[0m\u001b[1;33m\u001b[0m\u001b[0m\n\u001b[1;32m----> 6\u001b[1;33m \u001b[0mq3_avg\u001b[0m\u001b[1;33m[\u001b[0m\u001b[1;34m\"ROLLING\"\u001b[0m\u001b[1;33m]\u001b[0m \u001b[1;33m=\u001b[0m \u001b[0mq3_avg\u001b[0m\u001b[1;33m[\u001b[0m\u001b[1;34m\"TAVG\"\u001b[0m\u001b[1;33m]\u001b[0m\u001b[1;33m.\u001b[0m\u001b[0mrolling\u001b[0m\u001b[1;33m(\u001b[0m\u001b[0mwindow\u001b[0m\u001b[1;33m=\u001b[0m\u001b[1;36m30\u001b[0m\u001b[1;33m,\u001b[0m \u001b[0mmin_periods\u001b[0m\u001b[1;33m=\u001b[0m\u001b[1;36m1\u001b[0m\u001b[1;33m)\u001b[0m\u001b[1;33m.\u001b[0m\u001b[0mmean\u001b[0m\u001b[1;33m(\u001b[0m\u001b[1;33m)\u001b[0m\u001b[1;33m\u001b[0m\u001b[1;33m\u001b[0m\u001b[0m\n\u001b[0m",
      "\u001b[1;32m~\\AppData\\Roaming\\Python\\Python39\\site-packages\\pandas\\core\\series.py\u001b[0m in \u001b[0;36m__getitem__\u001b[1;34m(self, key)\u001b[0m\n\u001b[0;32m    851\u001b[0m \u001b[1;33m\u001b[0m\u001b[0m\n\u001b[0;32m    852\u001b[0m         \u001b[1;32melif\u001b[0m \u001b[0mkey_is_scalar\u001b[0m\u001b[1;33m:\u001b[0m\u001b[1;33m\u001b[0m\u001b[1;33m\u001b[0m\u001b[0m\n\u001b[1;32m--> 853\u001b[1;33m             \u001b[1;32mreturn\u001b[0m \u001b[0mself\u001b[0m\u001b[1;33m.\u001b[0m\u001b[0m_get_value\u001b[0m\u001b[1;33m(\u001b[0m\u001b[0mkey\u001b[0m\u001b[1;33m)\u001b[0m\u001b[1;33m\u001b[0m\u001b[1;33m\u001b[0m\u001b[0m\n\u001b[0m\u001b[0;32m    854\u001b[0m \u001b[1;33m\u001b[0m\u001b[0m\n\u001b[0;32m    855\u001b[0m         \u001b[1;32mif\u001b[0m \u001b[0mis_hashable\u001b[0m\u001b[1;33m(\u001b[0m\u001b[0mkey\u001b[0m\u001b[1;33m)\u001b[0m\u001b[1;33m:\u001b[0m\u001b[1;33m\u001b[0m\u001b[1;33m\u001b[0m\u001b[0m\n",
      "\u001b[1;32m~\\AppData\\Roaming\\Python\\Python39\\site-packages\\pandas\\core\\series.py\u001b[0m in \u001b[0;36m_get_value\u001b[1;34m(self, label, takeable)\u001b[0m\n\u001b[0;32m    959\u001b[0m \u001b[1;33m\u001b[0m\u001b[0m\n\u001b[0;32m    960\u001b[0m         \u001b[1;31m# Similar to Index.get_value, but we do not fall back to positional\u001b[0m\u001b[1;33m\u001b[0m\u001b[1;33m\u001b[0m\u001b[0m\n\u001b[1;32m--> 961\u001b[1;33m         \u001b[0mloc\u001b[0m \u001b[1;33m=\u001b[0m \u001b[0mself\u001b[0m\u001b[1;33m.\u001b[0m\u001b[0mindex\u001b[0m\u001b[1;33m.\u001b[0m\u001b[0mget_loc\u001b[0m\u001b[1;33m(\u001b[0m\u001b[0mlabel\u001b[0m\u001b[1;33m)\u001b[0m\u001b[1;33m\u001b[0m\u001b[1;33m\u001b[0m\u001b[0m\n\u001b[0m\u001b[0;32m    962\u001b[0m         \u001b[1;32mreturn\u001b[0m \u001b[0mself\u001b[0m\u001b[1;33m.\u001b[0m\u001b[0mindex\u001b[0m\u001b[1;33m.\u001b[0m\u001b[0m_get_values_for_loc\u001b[0m\u001b[1;33m(\u001b[0m\u001b[0mself\u001b[0m\u001b[1;33m,\u001b[0m \u001b[0mloc\u001b[0m\u001b[1;33m,\u001b[0m \u001b[0mlabel\u001b[0m\u001b[1;33m)\u001b[0m\u001b[1;33m\u001b[0m\u001b[1;33m\u001b[0m\u001b[0m\n\u001b[0;32m    963\u001b[0m \u001b[1;33m\u001b[0m\u001b[0m\n",
      "\u001b[1;32m~\\AppData\\Roaming\\Python\\Python39\\site-packages\\pandas\\core\\indexes\\base.py\u001b[0m in \u001b[0;36mget_loc\u001b[1;34m(self, key, method, tolerance)\u001b[0m\n\u001b[0;32m   3080\u001b[0m                 \u001b[1;32mreturn\u001b[0m \u001b[0mself\u001b[0m\u001b[1;33m.\u001b[0m\u001b[0m_engine\u001b[0m\u001b[1;33m.\u001b[0m\u001b[0mget_loc\u001b[0m\u001b[1;33m(\u001b[0m\u001b[0mcasted_key\u001b[0m\u001b[1;33m)\u001b[0m\u001b[1;33m\u001b[0m\u001b[1;33m\u001b[0m\u001b[0m\n\u001b[0;32m   3081\u001b[0m             \u001b[1;32mexcept\u001b[0m \u001b[0mKeyError\u001b[0m \u001b[1;32mas\u001b[0m \u001b[0merr\u001b[0m\u001b[1;33m:\u001b[0m\u001b[1;33m\u001b[0m\u001b[1;33m\u001b[0m\u001b[0m\n\u001b[1;32m-> 3082\u001b[1;33m                 \u001b[1;32mraise\u001b[0m \u001b[0mKeyError\u001b[0m\u001b[1;33m(\u001b[0m\u001b[0mkey\u001b[0m\u001b[1;33m)\u001b[0m \u001b[1;32mfrom\u001b[0m \u001b[0merr\u001b[0m\u001b[1;33m\u001b[0m\u001b[1;33m\u001b[0m\u001b[0m\n\u001b[0m\u001b[0;32m   3083\u001b[0m \u001b[1;33m\u001b[0m\u001b[0m\n\u001b[0;32m   3084\u001b[0m         \u001b[1;32mif\u001b[0m \u001b[0mtolerance\u001b[0m \u001b[1;32mis\u001b[0m \u001b[1;32mnot\u001b[0m \u001b[1;32mNone\u001b[0m\u001b[1;33m:\u001b[0m\u001b[1;33m\u001b[0m\u001b[1;33m\u001b[0m\u001b[0m\n",
      "\u001b[1;31mKeyError\u001b[0m: 'TAVG'"
     ]
    }
   ],
   "source": [
    "q3_avg = combined_data\n",
    "q3_avg[\"DAY\"] = q3_avg.DATE.dt.day_of_year\n",
    "q3_avg = q3_avg[(q3_avg.YEAR >= 1979) & (q3_avg.YEAR <= 1999)]\n",
    "q3_avg = q3_avg.groupby(\"DAY\")\n",
    "q3_avg = q3_avg.TAVG.mean()\n",
    "q3_avg\n",
    "q3_avg[\"ROLLING\"] = q3_avg[\"TAVG\"].rolling(window=30, min_periods=1).mean()"
   ]
  }
 ],
 "metadata": {
  "interpreter": {
   "hash": "63fd5069d213b44bf678585dea6b12cceca9941eaf7f819626cde1f2670de90d"
  },
  "kernelspec": {
   "display_name": "Python 3.9.7 64-bit",
   "name": "python3"
  },
  "language_info": {
   "codemirror_mode": {
    "name": "ipython",
    "version": 3
   },
   "file_extension": ".py",
   "mimetype": "text/x-python",
   "name": "python",
   "nbconvert_exporter": "python",
   "pygments_lexer": "ipython3",
   "version": "3.9.7"
  }
 },
 "nbformat": 4,
 "nbformat_minor": 5
}
